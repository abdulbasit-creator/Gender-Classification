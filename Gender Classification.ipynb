{
 "cells": [
  {
   "cell_type": "code",
   "execution_count": 1,
   "metadata": {},
   "outputs": [
    {
     "name": "stdout",
     "output_type": "stream",
     "text": [
      "Collecting imutils\n",
      "  Downloading imutils-0.5.4.tar.gz (17 kB)\n",
      "Building wheels for collected packages: imutils\n",
      "  Building wheel for imutils (setup.py): started\n",
      "  Building wheel for imutils (setup.py): finished with status 'done'\n",
      "  Created wheel for imutils: filename=imutils-0.5.4-py3-none-any.whl size=25859 sha256=1fca45da9bcb2c7a5b4ad2b5bd2b0df348c8402b9eb9a0e78454bd7da8897803\n",
      "  Stored in directory: c:\\users\\razer rug\\appdata\\local\\pip\\cache\\wheels\\86\\d7\\0a\\4923351ed1cec5d5e24c1eaf8905567b02a0343b24aa873df2\n",
      "Successfully built imutils\n",
      "Installing collected packages: imutils\n",
      "Successfully installed imutils-0.5.4\n",
      "Note: you may need to restart the kernel to use updated packages.\n"
     ]
    }
   ],
   "source": [
    "pip install imutils\n"
   ]
  },
  {
   "cell_type": "code",
   "execution_count": 4,
   "metadata": {},
   "outputs": [
    {
     "name": "stdout",
     "output_type": "stream",
     "text": [
      "Collecting opencv-python\n",
      "  Downloading opencv_python-4.5.3.56-cp37-cp37m-win_amd64.whl (34.9 MB)\n",
      "Requirement already satisfied: numpy>=1.14.5 in d:\\anacondapython\\lib\\site-packages (from opencv-python) (1.19.5)\n",
      "Installing collected packages: opencv-python\n",
      "Successfully installed opencv-python-4.5.3.56\n",
      "Note: you may need to restart the kernel to use updated packages.\n"
     ]
    }
   ],
   "source": [
    "pip install opencv-python\n"
   ]
  },
  {
   "cell_type": "code",
   "execution_count": 2,
   "metadata": {},
   "outputs": [],
   "source": [
    "from imutils import paths\n",
    "import cv2"
   ]
  },
  {
   "cell_type": "code",
   "execution_count": 3,
   "metadata": {},
   "outputs": [],
   "source": [
    "imagePaths = list(paths.list_images('F:\\Data Analyst\\Projects\\Gender Classification\\Dataset'))"
   ]
  },
  {
   "cell_type": "code",
   "execution_count": 5,
   "metadata": {},
   "outputs": [],
   "source": [
    "import os\n",
    "from tensorflow.keras import layers\n",
    "from tensorflow.keras import Model\n",
    "from tensorflow.keras.preprocessing.image import ImageDataGenerator\n",
    "import tensorflow as tf"
   ]
  },
  {
   "cell_type": "code",
   "execution_count": 6,
   "metadata": {},
   "outputs": [
    {
     "name": "stdout",
     "output_type": "stream",
     "text": [
      "Found 160000 images belonging to 2 classes.\n",
      "Found 22598 images belonging to 2 classes.\n"
     ]
    }
   ],
   "source": [
    "train_datagen = ImageDataGenerator(rescale = 1./255,\n",
    "\t  rotation_range=40,\n",
    "      width_shift_range=0.2,\n",
    "      height_shift_range=0.2,\n",
    "      shear_range=0.2,\n",
    "      zoom_range=0.2,\n",
    "      horizontal_flip=True,\n",
    "      fill_mode='nearest')\n",
    "\n",
    "\n",
    "test_datagen = ImageDataGenerator( rescale = 1.0/255)\n",
    "\n",
    "train_generator = train_datagen.flow_from_directory(\"F:\\Data Analyst\\Projects\\Gender Classification\\Dataset\\Train\",\n",
    "                                                    batch_size =256 ,\n",
    "                                                    class_mode = 'binary', \n",
    "                                                    target_size = (64, 64))     \n",
    "\n",
    "validation_generator =  test_datagen.flow_from_directory( \"F:\\Data Analyst\\Projects\\Gender Classification\\Dataset\\Validation\",\n",
    "                                                          batch_size  = 256,\n",
    "                                                          class_mode  = 'binary', \n",
    "                                                          target_size = (64, 64))"
   ]
  },
  {
   "cell_type": "code",
   "execution_count": 8,
   "metadata": {
    "scrolled": true
   },
   "outputs": [
    {
     "name": "stderr",
     "output_type": "stream",
     "text": [
      "D:\\anacondaPython\\lib\\site-packages\\keras\\optimizer_v2\\optimizer_v2.py:356: UserWarning: The `lr` argument is deprecated, use `learning_rate` instead.\n",
      "  \"The `lr` argument is deprecated, use `learning_rate` instead.\")\n",
      "D:\\anacondaPython\\lib\\site-packages\\keras\\engine\\training.py:1972: UserWarning: `Model.fit_generator` is deprecated and will be removed in a future version. Please use `Model.fit`, which supports generators.\n",
      "  warnings.warn('`Model.fit_generator` is deprecated and '\n"
     ]
    },
    {
     "name": "stdout",
     "output_type": "stream",
     "text": [
      "Epoch 1/50\n",
      "256/256 [==============================] - ETA: 0s - loss: 0.9044 - accuracy: 0.6056WARNING:tensorflow:Your input ran out of data; interrupting training. Make sure that your dataset or generator can generate at least `steps_per_epoch * epochs` batches (in this case, 256 batches). You may need to use the repeat() function when building your dataset.\n",
      "256/256 [==============================] - 1575s 6s/step - loss: 0.9044 - accuracy: 0.6056 - val_loss: 0.5647 - val_accuracy: 0.7302\n",
      "Epoch 2/50\n",
      "256/256 [==============================] - 1146s 4s/step - loss: 0.5236 - accuracy: 0.7423\n",
      "Epoch 3/50\n",
      "256/256 [==============================] - 963s 4s/step - loss: 0.4717 - accuracy: 0.7789\n",
      "Epoch 4/50\n",
      "256/256 [==============================] - 875s 3s/step - loss: 0.4243 - accuracy: 0.8064\n",
      "Epoch 5/50\n",
      "256/256 [==============================] - 847s 3s/step - loss: 0.3927 - accuracy: 0.8250\n",
      "Epoch 6/50\n",
      "256/256 [==============================] - 842s 3s/step - loss: 0.3621 - accuracy: 0.8413\n",
      "Epoch 7/50\n",
      "256/256 [==============================] - 838s 3s/step - loss: 0.3216 - accuracy: 0.8603\n",
      "Epoch 8/50\n",
      "256/256 [==============================] - 838s 3s/step - loss: 0.3134 - accuracy: 0.8643\n",
      "Epoch 9/50\n",
      "256/256 [==============================] - 836s 3s/step - loss: 0.2939 - accuracy: 0.8755\n",
      "Epoch 10/50\n",
      "256/256 [==============================] - 833s 3s/step - loss: 0.2873 - accuracy: 0.8789\n",
      "Epoch 11/50\n",
      "256/256 [==============================] - 832s 3s/step - loss: 0.2721 - accuracy: 0.8846\n",
      "Epoch 12/50\n",
      "256/256 [==============================] - 834s 3s/step - loss: 0.2634 - accuracy: 0.8886\n",
      "Epoch 13/50\n",
      "256/256 [==============================] - 831s 3s/step - loss: 0.2584 - accuracy: 0.8914\n",
      "Epoch 14/50\n",
      "256/256 [==============================] - 831s 3s/step - loss: 0.2491 - accuracy: 0.8963\n",
      "Epoch 15/50\n",
      "256/256 [==============================] - 833s 3s/step - loss: 0.2462 - accuracy: 0.8971\n",
      "Epoch 16/50\n",
      "256/256 [==============================] - 833s 3s/step - loss: 0.2404 - accuracy: 0.9008\n",
      "Epoch 17/50\n",
      "256/256 [==============================] - 831s 3s/step - loss: 0.2347 - accuracy: 0.9025\n",
      "Epoch 18/50\n",
      "256/256 [==============================] - 834s 3s/step - loss: 0.2331 - accuracy: 0.9040\n",
      "Epoch 19/50\n",
      "256/256 [==============================] - 834s 3s/step - loss: 0.2260 - accuracy: 0.9076\n",
      "Epoch 20/50\n",
      "256/256 [==============================] - 831s 3s/step - loss: 0.2255 - accuracy: 0.9082\n",
      "Epoch 21/50\n",
      "256/256 [==============================] - 831s 3s/step - loss: 0.2196 - accuracy: 0.9094\n",
      "Epoch 22/50\n",
      "256/256 [==============================] - 832s 3s/step - loss: 0.2180 - accuracy: 0.9102\n",
      "Epoch 23/50\n",
      "256/256 [==============================] - 833s 3s/step - loss: 0.2193 - accuracy: 0.9091\n",
      "Epoch 24/50\n",
      "256/256 [==============================] - 831s 3s/step - loss: 0.2129 - accuracy: 0.9129\n",
      "Epoch 25/50\n",
      "256/256 [==============================] - 832s 3s/step - loss: 0.2122 - accuracy: 0.9128\n",
      "Epoch 26/50\n",
      "256/256 [==============================] - 830s 3s/step - loss: 0.2088 - accuracy: 0.9142\n",
      "Epoch 27/50\n",
      "256/256 [==============================] - 832s 3s/step - loss: 0.2075 - accuracy: 0.9145\n",
      "Epoch 28/50\n",
      "256/256 [==============================] - 831s 3s/step - loss: 0.2056 - accuracy: 0.9164\n",
      "Epoch 29/50\n",
      "256/256 [==============================] - 833s 3s/step - loss: 0.2043 - accuracy: 0.9161\n",
      "Epoch 30/50\n",
      "256/256 [==============================] - 830s 3s/step - loss: 0.2007 - accuracy: 0.9186\n",
      "Epoch 31/50\n",
      "256/256 [==============================] - 832s 3s/step - loss: 0.1984 - accuracy: 0.9185\n",
      "Epoch 32/50\n",
      "256/256 [==============================] - 832s 3s/step - loss: 0.1970 - accuracy: 0.9205\n",
      "Epoch 33/50\n",
      "256/256 [==============================] - 830s 3s/step - loss: 0.1981 - accuracy: 0.9187\n",
      "Epoch 34/50\n",
      "256/256 [==============================] - 830s 3s/step - loss: 0.1980 - accuracy: 0.9194\n",
      "Epoch 35/50\n",
      "256/256 [==============================] - 831s 3s/step - loss: 0.1945 - accuracy: 0.9209\n",
      "Epoch 36/50\n",
      "256/256 [==============================] - 840s 3s/step - loss: 0.2013 - accuracy: 0.9191\n",
      "Epoch 37/50\n",
      "256/256 [==============================] - 830s 3s/step - loss: 0.1940 - accuracy: 0.9202\n",
      "Epoch 38/50\n",
      "256/256 [==============================] - 834s 3s/step - loss: 0.1888 - accuracy: 0.9232\n",
      "Epoch 39/50\n",
      "256/256 [==============================] - 830s 3s/step - loss: 0.1879 - accuracy: 0.9231\n",
      "Epoch 40/50\n",
      "256/256 [==============================] - 835s 3s/step - loss: 0.1860 - accuracy: 0.9252\n",
      "Epoch 41/50\n",
      "256/256 [==============================] - 832s 3s/step - loss: 0.1895 - accuracy: 0.9230\n",
      "Epoch 42/50\n",
      "256/256 [==============================] - 866s 3s/step - loss: 0.1857 - accuracy: 0.9251\n",
      "Epoch 43/50\n",
      "256/256 [==============================] - 973s 4s/step - loss: 0.1852 - accuracy: 0.9246\n",
      "Epoch 44/50\n",
      "256/256 [==============================] - 1581s 6s/step - loss: 0.1820 - accuracy: 0.9266\n",
      "Epoch 45/50\n",
      "256/256 [==============================] - 1114s 4s/step - loss: 0.1815 - accuracy: 0.9252\n",
      "Epoch 46/50\n",
      "256/256 [==============================] - 922s 4s/step - loss: 0.1797 - accuracy: 0.9274\n",
      "Epoch 47/50\n",
      "256/256 [==============================] - 988s 4s/step - loss: 0.1790 - accuracy: 0.9267\n",
      "Epoch 48/50\n",
      "256/256 [==============================] - 1009s 4s/step - loss: 0.1771 - accuracy: 0.9290\n",
      "Epoch 49/50\n",
      "256/256 [==============================] - 980s 4s/step - loss: 0.1722 - accuracy: 0.9305\n",
      "Epoch 50/50\n",
      "256/256 [==============================] - 1088s 4s/step - loss: 0.1771 - accuracy: 0.9288\n"
     ]
    }
   ],
   "source": [
    "from tensorflow.keras.optimizers import Adam\n",
    "model = tf.keras.models.Sequential([\n",
    "    # 1st conv\n",
    "  tf.keras.layers.Conv2D(96, (11,11),strides=(4,4), activation='relu', input_shape=(64, 64, 3)),\n",
    "  tf.keras.layers.BatchNormalization(),\n",
    "  tf.keras.layers.MaxPooling2D(2, strides=(2,2)),\n",
    "    # 2nd conv\n",
    "  tf.keras.layers.Conv2D(256, (11,11),strides=(1,1), activation='relu',padding=\"same\"),\n",
    "  tf.keras.layers.BatchNormalization(),\n",
    "     # 3rd conv\n",
    "  tf.keras.layers.Conv2D(384, (3,3),strides=(1,1), activation='relu',padding=\"same\"),\n",
    "  tf.keras.layers.BatchNormalization(),\n",
    "    # 4th conv\n",
    "  tf.keras.layers.Conv2D(384, (3,3),strides=(1,1), activation='relu',padding=\"same\"),\n",
    "  tf.keras.layers.BatchNormalization(),\n",
    "    # 5th Conv\n",
    "  tf.keras.layers.Conv2D(256, (3, 3), strides=(1, 1), activation='relu',padding=\"same\"),\n",
    "  tf.keras.layers.BatchNormalization(),\n",
    "  tf.keras.layers.MaxPooling2D(2, strides=(2, 2)),\n",
    "  # To Flatten layer\n",
    "  tf.keras.layers.Flatten(),\n",
    "  # To FC layer 1\n",
    "  tf.keras.layers.Dense(4096, activation='relu'),\n",
    "  tf.keras.layers.Dropout(0.5),\n",
    "  #To FC layer 2\n",
    "  tf.keras.layers.Dense(4096, activation='relu'),\n",
    "  tf.keras.layers.Dropout(0.5),\n",
    "  tf.keras.layers.Dense(1, activation='sigmoid')\n",
    "  ])\n",
    "model.compile(\n",
    "    optimizer=Adam(lr=0.001),\n",
    "    loss='binary_crossentropy',\n",
    "    metrics=['accuracy']\n",
    "   )\n",
    "hist = model.fit_generator(generator=train_generator,\n",
    "                    validation_data=validation_generator,\n",
    "                    steps_per_epoch=256,\n",
    "                    validation_steps=256,\n",
    "                    epochs=50)"
   ]
  },
  {
   "cell_type": "code",
   "execution_count": 41,
   "metadata": {},
   "outputs": [
    {
     "name": "stdout",
     "output_type": "stream",
     "text": [
      "[0.]\n",
      " is a female\n"
     ]
    },
    {
     "data": {
      "text/plain": [
       "<matplotlib.image.AxesImage at 0x2799422af48>"
      ]
     },
     "execution_count": 41,
     "metadata": {},
     "output_type": "execute_result"
    },
    {
     "data": {
      "image/png": "[encoded data removed]",
      "text/plain": [
       "<Figure size 432x288 with 1 Axes>"
      ]
     },
     "metadata": {
      "needs_background": "light"
     },
     "output_type": "display_data"
    }
   ],
   "source": [
    "## Prediction time \n",
    "\n",
    "import numpy as np\n",
    "\n",
    "from keras.preprocessing import image\n",
    "\n",
    "# predicting images\n",
    "path = \"160001.jpg\"\n",
    "img = image.load_img(path, target_size=(64, 64))\n",
    "x = image.img_to_array(img)\n",
    "x = np.expand_dims(x, axis=0)\n",
    "\n",
    "images = np.vstack([x])\n",
    "classes = model.predict(images, batch_size=1)\n",
    "print(classes[0])\n",
    "if classes[0]>0.5:\n",
    "    print(\"is a man\")\n",
    "else:\n",
    "    print( \" is a female\")\n",
    "plt.imshow(img)"
   ]
  }
 ],
 "metadata": {
  "kernelspec": {
   "display_name": "Python 3",
   "language": "python",
   "name": "python3"
  },
  "language_info": {
   "codemirror_mode": {
    "name": "ipython",
    "version": 3
   },
   "file_extension": ".py",
   "mimetype": "text/x-python",
   "name": "python",
   "nbconvert_exporter": "python",
   "pygments_lexer": "ipython3",
   "version": "3.7.6"
  }
 },
 "nbformat": 4,
 "nbformat_minor": 4
}
